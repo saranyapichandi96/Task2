{
  "nbformat": 4,
  "nbformat_minor": 0,
  "metadata": {
    "colab": {
      "provenance": [],
      "collapsed_sections": [],
      "authorship_tag": "ABX9TyOxLL9VH/MFRVeHr9jaUhfV",
      "include_colab_link": true
    },
    "kernelspec": {
      "name": "python3",
      "display_name": "Python 3"
    },
    "language_info": {
      "name": "python"
    }
  },
  "cells": [
    {
      "cell_type": "markdown",
      "metadata": {
        "id": "view-in-github",
        "colab_type": "text"
      },
      "source": [
        "<a href=\"https://colab.research.google.com/github/saranyapichandi96/Task2/blob/main/Telephone_directory.ipynb\" target=\"_parent\"><img src=\"https://colab.research.google.com/assets/colab-badge.svg\" alt=\"Open In Colab\"/></a>"
      ]
    },
    {
      "cell_type": "code",
      "execution_count": null,
      "metadata": {
        "id": "-VEdZp_GQQdT"
      },
      "outputs": [],
      "source": [
        "#Telephone Directory CRUD Operation"
      ]
    },
    {
      "cell_type": "code",
      "source": [
        "#Import necessary modules.\n",
        "import pymongo\n",
        "#Create a database using attribute style on a MongoClient instance. \n",
        "myclient=pymongo.MongoClient(\"mongodb://127.0.0.1:27017\")\n",
        "#variable db and assign the new database as an attribute of the client.\n",
        "db=myclient['telephone']\n",
        "#Create a collection.\n",
        "mycollection=db['telephone_directory']\n",
        "#create a directory which has fields like Name, Phone number, Place etc.,\n",
        "telephone_info=[\n",
        "    {\n",
        "        'Name':'Saranya',\n",
        "        'Place':'TamilNadu',\n",
        "        'Phone_no':'9787157987',\n",
        "        'Location':'India',\n",
        "        'Pin_Code':'600037'},\n",
        "    {'Name':'Navin',\n",
        "    'Place':'TamilNadu',\n",
        "    'Phone_no':'9787456723',\n",
        "    'Location':'India',\n",
        "    'Pin_Code':'604321'},\n",
        "    {'Name':'Jagadeesh',\n",
        "    'Place':'Andhra Pradesh',\n",
        "    'Phone_no':'9087654321',\n",
        "    'Location':'India',\n",
        "    'Pin_Code':'623456'},\n",
        "    {'Name':'Praveen',\n",
        "    'Place':'Andhra Pradesh',\n",
        "    'Phone_no':'9034524321',\n",
        "    'Location':'India',\n",
        "    'Pin_Code':'675422'},\n",
        "    {'Name':'Ramani',\n",
        "    'Place':'Kerala',\n",
        "    'Phone_no':'76543219012',\n",
        "    'Location':'India',\n",
        "    'Pin_Code':'6256783'},\n",
        "    {'Name':'Raja',\n",
        "    'Place':'Kerala',\n",
        "    'Phone_no':'7654464701',\n",
        "    'Location':'India',\n",
        "    'Pin_Code':'625679'},\n",
        "    {'Name':'Saralya',\n",
        "    'Place':'Gujarat',\n",
        "    'Phone_no':'8054321932',\n",
        "    'Location':'India',\n",
        "    'Pin_Code':'600783'},\n",
        "    ]\n",
        "#Insert the record into the collection.\n",
        "telephone_directory_info=mycollection.insert_many(telephone_info)\n",
        "#Make a query to find records you just created.\n",
        "#find_one()\n",
        "data=mycollection.find_one()\n",
        "print(\"Find_one:\\n\",data)\n",
        "#find()-->all the data's\n",
        "data=mycollection.find()\n",
        "print(\"Retriving all the datas:\\n\")\n",
        "for i in data:\n",
        "    print(i)\n",
        "#Modify the records, use the update_one() method. \n",
        "old_data={'Name':'Saranya'}\n",
        "new_data={'$set':{'Name':'SaranyaPichandi'}}\n",
        "mycollection.update_one(old_data,new_data)\n",
        "#Delete the record, use delete_one() method.\n",
        "data={'Name':'Raja'}\n",
        "mycollection.delete_one(data)"
      ],
      "metadata": {
        "id": "N3_uwlDYQZGD"
      },
      "execution_count": null,
      "outputs": []
    }
  ]
}